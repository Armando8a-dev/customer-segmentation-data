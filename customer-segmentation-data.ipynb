{
 "cells": [
  {
   "cell_type": "markdown",
   "metadata": {},
   "source": [
    "## Objetivo\n",
    "\n",
    "El servicio de telefonía virtual CallMeMaybe está desarrollando una nueva función que brindará a los supervisores y las supervisores información sobre los operadores menos eficaces. Se considera que un operador es ineficaz si tiene una gran cantidad de llamadas entrantes perdidas (internas y externas) y un tiempo de espera prolongado para las llamadas entrantes. Además, si se supone que un operador debe realizar llamadas salientes, un número reducido de ellas también será un signo de ineficacia.\n",
    "\n",
    "- Lleva a cabo el análisis exploratorio de datos\n",
    "- Identificar operadores ineficaces\n",
    "- Prueba las hipótesis estadísticas\n",
    "\n",
    "### Descripción de los datos\n",
    "\n",
    "Los datasets contienen información sobre el uso del servicio de telefonía virtual CallMeMaybe. Sus clientes son organizaciones que necesitan distribuir gran cantidad de llamadas entrantes entre varios operadores, o realizar llamadas salientes a través de sus operadores. Los operadores también pueden realizar llamadas internas para comunicarse entre ellos. Estas llamadas se realizan a través de la red de CallMeMaybe."
   ]
  },
  {
   "cell_type": "markdown",
   "metadata": {},
   "source": [
    "## Inicialización"
   ]
  },
  {
   "cell_type": "code",
   "execution_count": 56,
   "metadata": {},
   "outputs": [],
   "source": [
    "import pandas as pd\n",
    "import numpy as np\n",
    "import matplotlib.pyplot as plt\n",
    "import seaborn as sns\n",
    "import scipy.stats as st\n",
    "from scipy.stats import ttest_ind\n",
    "from sklearn.preprocessing import MinMaxScaler"
   ]
  },
  {
   "cell_type": "markdown",
   "metadata": {},
   "source": [
    "## Cargar datos"
   ]
  },
  {
   "cell_type": "code",
   "execution_count": 15,
   "metadata": {},
   "outputs": [],
   "source": [
    "# Carga los archivos de datos en diferentes DataFrames\n",
    "telecom_data = pd.read_csv('/Users/armando.ochoa/Documents/datasets/telecom_dataset_us.csv')\n",
    "clients_data = pd.read_csv('/Users/armando.ochoa/Documents/datasets/telecom_clients_us.csv')\n"
   ]
  },
  {
   "cell_type": "markdown",
   "metadata": {},
   "source": [
    "## Preparar los datos"
   ]
  },
  {
   "cell_type": "markdown",
   "metadata": {},
   "source": [
    "- Revision general de los dataframes \n",
    "   - información general.\n",
    "   - valores ausentes\n",
    "   - valores duplicados\n",
    "   - muestra de los datos\n",
    "   - muestra de las columnas"
   ]
  },
  {
   "cell_type": "code",
   "execution_count": 16,
   "metadata": {},
   "outputs": [
    {
     "name": "stdout",
     "output_type": "stream",
     "text": [
      "<class 'pandas.core.frame.DataFrame'>\n",
      "RangeIndex: 53902 entries, 0 to 53901\n",
      "Data columns (total 9 columns):\n",
      " #   Column               Non-Null Count  Dtype  \n",
      "---  ------               --------------  -----  \n",
      " 0   user_id              53902 non-null  int64  \n",
      " 1   date                 53902 non-null  object \n",
      " 2   direction            53902 non-null  object \n",
      " 3   internal             53785 non-null  object \n",
      " 4   operator_id          45730 non-null  float64\n",
      " 5   is_missed_call       53902 non-null  bool   \n",
      " 6   calls_count          53902 non-null  int64  \n",
      " 7   call_duration        53902 non-null  int64  \n",
      " 8   total_call_duration  53902 non-null  int64  \n",
      "dtypes: bool(1), float64(1), int64(4), object(3)\n",
      "memory usage: 3.3+ MB\n"
     ]
    },
    {
     "data": {
      "text/html": [
       "<div>\n",
       "<style scoped>\n",
       "    .dataframe tbody tr th:only-of-type {\n",
       "        vertical-align: middle;\n",
       "    }\n",
       "\n",
       "    .dataframe tbody tr th {\n",
       "        vertical-align: top;\n",
       "    }\n",
       "\n",
       "    .dataframe thead th {\n",
       "        text-align: right;\n",
       "    }\n",
       "</style>\n",
       "<table border=\"1\" class=\"dataframe\">\n",
       "  <thead>\n",
       "    <tr style=\"text-align: right;\">\n",
       "      <th></th>\n",
       "      <th>user_id</th>\n",
       "      <th>operator_id</th>\n",
       "      <th>calls_count</th>\n",
       "      <th>call_duration</th>\n",
       "      <th>total_call_duration</th>\n",
       "    </tr>\n",
       "  </thead>\n",
       "  <tbody>\n",
       "    <tr>\n",
       "      <th>count</th>\n",
       "      <td>53902.000000</td>\n",
       "      <td>45730.000000</td>\n",
       "      <td>53902.000000</td>\n",
       "      <td>53902.000000</td>\n",
       "      <td>53902.000000</td>\n",
       "    </tr>\n",
       "    <tr>\n",
       "      <th>mean</th>\n",
       "      <td>167295.344477</td>\n",
       "      <td>916535.993002</td>\n",
       "      <td>16.451245</td>\n",
       "      <td>866.684427</td>\n",
       "      <td>1157.133297</td>\n",
       "    </tr>\n",
       "    <tr>\n",
       "      <th>std</th>\n",
       "      <td>598.883775</td>\n",
       "      <td>21254.123136</td>\n",
       "      <td>62.917170</td>\n",
       "      <td>3731.791202</td>\n",
       "      <td>4403.468763</td>\n",
       "    </tr>\n",
       "    <tr>\n",
       "      <th>min</th>\n",
       "      <td>166377.000000</td>\n",
       "      <td>879896.000000</td>\n",
       "      <td>1.000000</td>\n",
       "      <td>0.000000</td>\n",
       "      <td>0.000000</td>\n",
       "    </tr>\n",
       "    <tr>\n",
       "      <th>25%</th>\n",
       "      <td>166782.000000</td>\n",
       "      <td>900788.000000</td>\n",
       "      <td>1.000000</td>\n",
       "      <td>0.000000</td>\n",
       "      <td>47.000000</td>\n",
       "    </tr>\n",
       "    <tr>\n",
       "      <th>50%</th>\n",
       "      <td>167162.000000</td>\n",
       "      <td>913938.000000</td>\n",
       "      <td>4.000000</td>\n",
       "      <td>38.000000</td>\n",
       "      <td>210.000000</td>\n",
       "    </tr>\n",
       "    <tr>\n",
       "      <th>75%</th>\n",
       "      <td>167819.000000</td>\n",
       "      <td>937708.000000</td>\n",
       "      <td>12.000000</td>\n",
       "      <td>572.000000</td>\n",
       "      <td>902.000000</td>\n",
       "    </tr>\n",
       "    <tr>\n",
       "      <th>max</th>\n",
       "      <td>168606.000000</td>\n",
       "      <td>973286.000000</td>\n",
       "      <td>4817.000000</td>\n",
       "      <td>144395.000000</td>\n",
       "      <td>166155.000000</td>\n",
       "    </tr>\n",
       "  </tbody>\n",
       "</table>\n",
       "</div>"
      ],
      "text/plain": [
       "             user_id    operator_id   calls_count  call_duration  \\\n",
       "count   53902.000000   45730.000000  53902.000000   53902.000000   \n",
       "mean   167295.344477  916535.993002     16.451245     866.684427   \n",
       "std       598.883775   21254.123136     62.917170    3731.791202   \n",
       "min    166377.000000  879896.000000      1.000000       0.000000   \n",
       "25%    166782.000000  900788.000000      1.000000       0.000000   \n",
       "50%    167162.000000  913938.000000      4.000000      38.000000   \n",
       "75%    167819.000000  937708.000000     12.000000     572.000000   \n",
       "max    168606.000000  973286.000000   4817.000000  144395.000000   \n",
       "\n",
       "       total_call_duration  \n",
       "count         53902.000000  \n",
       "mean           1157.133297  \n",
       "std            4403.468763  \n",
       "min               0.000000  \n",
       "25%              47.000000  \n",
       "50%             210.000000  \n",
       "75%             902.000000  \n",
       "max          166155.000000  "
      ]
     },
     "execution_count": 16,
     "metadata": {},
     "output_type": "execute_result"
    }
   ],
   "source": [
    "#Información general.\n",
    "telecom_data.info()\n",
    "telecom_data.describe()"
   ]
  },
  {
   "cell_type": "code",
   "execution_count": 17,
   "metadata": {},
   "outputs": [
    {
     "data": {
      "text/plain": [
       "np.int64(4900)"
      ]
     },
     "execution_count": 17,
     "metadata": {},
     "output_type": "execute_result"
    }
   ],
   "source": [
    "#Revisión de duplicados.\n",
    "telecom_data.duplicated().sum()"
   ]
  },
  {
   "cell_type": "code",
   "execution_count": 18,
   "metadata": {},
   "outputs": [
    {
     "data": {
      "text/plain": [
       "Index(['user_id', 'date', 'direction', 'internal', 'operator_id',\n",
       "       'is_missed_call', 'calls_count', 'call_duration',\n",
       "       'total_call_duration'],\n",
       "      dtype='object')"
      ]
     },
     "execution_count": 18,
     "metadata": {},
     "output_type": "execute_result"
    }
   ],
   "source": [
    "#Revisión de columna.\n",
    "telecom_data.columns"
   ]
  },
  {
   "cell_type": "code",
   "execution_count": 19,
   "metadata": {},
   "outputs": [
    {
     "data": {
      "text/plain": [
       "user_id                   0\n",
       "date                      0\n",
       "direction                 0\n",
       "internal                117\n",
       "operator_id            8172\n",
       "is_missed_call            0\n",
       "calls_count               0\n",
       "call_duration             0\n",
       "total_call_duration       0\n",
       "dtype: int64"
      ]
     },
     "execution_count": 19,
     "metadata": {},
     "output_type": "execute_result"
    }
   ],
   "source": [
    "#Tabla revisión de valores ausentes.\n",
    "telecom_data.isna().sum()"
   ]
  },
  {
   "cell_type": "code",
   "execution_count": 20,
   "metadata": {},
   "outputs": [
    {
     "data": {
      "text/html": [
       "<div>\n",
       "<style scoped>\n",
       "    .dataframe tbody tr th:only-of-type {\n",
       "        vertical-align: middle;\n",
       "    }\n",
       "\n",
       "    .dataframe tbody tr th {\n",
       "        vertical-align: top;\n",
       "    }\n",
       "\n",
       "    .dataframe thead th {\n",
       "        text-align: right;\n",
       "    }\n",
       "</style>\n",
       "<table border=\"1\" class=\"dataframe\">\n",
       "  <thead>\n",
       "    <tr style=\"text-align: right;\">\n",
       "      <th></th>\n",
       "      <th>user_id</th>\n",
       "      <th>date</th>\n",
       "      <th>direction</th>\n",
       "      <th>internal</th>\n",
       "      <th>operator_id</th>\n",
       "      <th>is_missed_call</th>\n",
       "      <th>calls_count</th>\n",
       "      <th>call_duration</th>\n",
       "      <th>total_call_duration</th>\n",
       "    </tr>\n",
       "  </thead>\n",
       "  <tbody>\n",
       "    <tr>\n",
       "      <th>49923</th>\n",
       "      <td>168228</td>\n",
       "      <td>2019-10-24 00:00:00+03:00</td>\n",
       "      <td>out</td>\n",
       "      <td>False</td>\n",
       "      <td>939738.0</td>\n",
       "      <td>False</td>\n",
       "      <td>2</td>\n",
       "      <td>368</td>\n",
       "      <td>419</td>\n",
       "    </tr>\n",
       "    <tr>\n",
       "      <th>21192</th>\n",
       "      <td>167016</td>\n",
       "      <td>2019-11-24 00:00:00+03:00</td>\n",
       "      <td>out</td>\n",
       "      <td>False</td>\n",
       "      <td>962658.0</td>\n",
       "      <td>True</td>\n",
       "      <td>5</td>\n",
       "      <td>0</td>\n",
       "      <td>178</td>\n",
       "    </tr>\n",
       "    <tr>\n",
       "      <th>49176</th>\n",
       "      <td>168187</td>\n",
       "      <td>2019-11-21 00:00:00+03:00</td>\n",
       "      <td>out</td>\n",
       "      <td>False</td>\n",
       "      <td>937812.0</td>\n",
       "      <td>False</td>\n",
       "      <td>2</td>\n",
       "      <td>557</td>\n",
       "      <td>612</td>\n",
       "    </tr>\n",
       "    <tr>\n",
       "      <th>34328</th>\n",
       "      <td>167497</td>\n",
       "      <td>2019-11-14 00:00:00+03:00</td>\n",
       "      <td>out</td>\n",
       "      <td>True</td>\n",
       "      <td>950672.0</td>\n",
       "      <td>False</td>\n",
       "      <td>1</td>\n",
       "      <td>84</td>\n",
       "      <td>108</td>\n",
       "    </tr>\n",
       "    <tr>\n",
       "      <th>34521</th>\n",
       "      <td>167497</td>\n",
       "      <td>2019-11-20 00:00:00+03:00</td>\n",
       "      <td>out</td>\n",
       "      <td>False</td>\n",
       "      <td>924948.0</td>\n",
       "      <td>True</td>\n",
       "      <td>1</td>\n",
       "      <td>0</td>\n",
       "      <td>27</td>\n",
       "    </tr>\n",
       "  </tbody>\n",
       "</table>\n",
       "</div>"
      ],
      "text/plain": [
       "       user_id                       date direction internal  operator_id  \\\n",
       "49923   168228  2019-10-24 00:00:00+03:00       out    False     939738.0   \n",
       "21192   167016  2019-11-24 00:00:00+03:00       out    False     962658.0   \n",
       "49176   168187  2019-11-21 00:00:00+03:00       out    False     937812.0   \n",
       "34328   167497  2019-11-14 00:00:00+03:00       out     True     950672.0   \n",
       "34521   167497  2019-11-20 00:00:00+03:00       out    False     924948.0   \n",
       "\n",
       "       is_missed_call  calls_count  call_duration  total_call_duration  \n",
       "49923           False            2            368                  419  \n",
       "21192            True            5              0                  178  \n",
       "49176           False            2            557                  612  \n",
       "34328           False            1             84                  108  \n",
       "34521            True            1              0                   27  "
      ]
     },
     "execution_count": 20,
     "metadata": {},
     "output_type": "execute_result"
    }
   ],
   "source": [
    "telecom_data.sample(5)"
   ]
  },
  {
   "cell_type": "code",
   "execution_count": 21,
   "metadata": {},
   "outputs": [
    {
     "name": "stdout",
     "output_type": "stream",
     "text": [
      "<class 'pandas.core.frame.DataFrame'>\n",
      "RangeIndex: 732 entries, 0 to 731\n",
      "Data columns (total 3 columns):\n",
      " #   Column       Non-Null Count  Dtype \n",
      "---  ------       --------------  ----- \n",
      " 0   user_id      732 non-null    int64 \n",
      " 1   tariff_plan  732 non-null    object\n",
      " 2   date_start   732 non-null    object\n",
      "dtypes: int64(1), object(2)\n",
      "memory usage: 17.3+ KB\n"
     ]
    },
    {
     "data": {
      "text/html": [
       "<div>\n",
       "<style scoped>\n",
       "    .dataframe tbody tr th:only-of-type {\n",
       "        vertical-align: middle;\n",
       "    }\n",
       "\n",
       "    .dataframe tbody tr th {\n",
       "        vertical-align: top;\n",
       "    }\n",
       "\n",
       "    .dataframe thead th {\n",
       "        text-align: right;\n",
       "    }\n",
       "</style>\n",
       "<table border=\"1\" class=\"dataframe\">\n",
       "  <thead>\n",
       "    <tr style=\"text-align: right;\">\n",
       "      <th></th>\n",
       "      <th>user_id</th>\n",
       "    </tr>\n",
       "  </thead>\n",
       "  <tbody>\n",
       "    <tr>\n",
       "      <th>count</th>\n",
       "      <td>732.000000</td>\n",
       "    </tr>\n",
       "    <tr>\n",
       "      <th>mean</th>\n",
       "      <td>167431.927596</td>\n",
       "    </tr>\n",
       "    <tr>\n",
       "      <th>std</th>\n",
       "      <td>633.810383</td>\n",
       "    </tr>\n",
       "    <tr>\n",
       "      <th>min</th>\n",
       "      <td>166373.000000</td>\n",
       "    </tr>\n",
       "    <tr>\n",
       "      <th>25%</th>\n",
       "      <td>166900.750000</td>\n",
       "    </tr>\n",
       "    <tr>\n",
       "      <th>50%</th>\n",
       "      <td>167432.000000</td>\n",
       "    </tr>\n",
       "    <tr>\n",
       "      <th>75%</th>\n",
       "      <td>167973.000000</td>\n",
       "    </tr>\n",
       "    <tr>\n",
       "      <th>max</th>\n",
       "      <td>168606.000000</td>\n",
       "    </tr>\n",
       "  </tbody>\n",
       "</table>\n",
       "</div>"
      ],
      "text/plain": [
       "             user_id\n",
       "count     732.000000\n",
       "mean   167431.927596\n",
       "std       633.810383\n",
       "min    166373.000000\n",
       "25%    166900.750000\n",
       "50%    167432.000000\n",
       "75%    167973.000000\n",
       "max    168606.000000"
      ]
     },
     "execution_count": 21,
     "metadata": {},
     "output_type": "execute_result"
    }
   ],
   "source": [
    "#Información general.\n",
    "clients_data.info()\n",
    "clients_data.describe()"
   ]
  },
  {
   "cell_type": "code",
   "execution_count": 22,
   "metadata": {},
   "outputs": [
    {
     "data": {
      "text/plain": [
       "np.int64(0)"
      ]
     },
     "execution_count": 22,
     "metadata": {},
     "output_type": "execute_result"
    }
   ],
   "source": [
    "#Revisión de duplicados.\n",
    "clients_data.duplicated().sum()"
   ]
  },
  {
   "cell_type": "code",
   "execution_count": 23,
   "metadata": {},
   "outputs": [
    {
     "data": {
      "text/plain": [
       "Index(['user_id', 'tariff_plan', 'date_start'], dtype='object')"
      ]
     },
     "execution_count": 23,
     "metadata": {},
     "output_type": "execute_result"
    }
   ],
   "source": [
    "#Revisión de columna.\n",
    "clients_data.columns"
   ]
  },
  {
   "cell_type": "code",
   "execution_count": 24,
   "metadata": {},
   "outputs": [
    {
     "data": {
      "text/plain": [
       "user_id        0\n",
       "tariff_plan    0\n",
       "date_start     0\n",
       "dtype: int64"
      ]
     },
     "execution_count": 24,
     "metadata": {},
     "output_type": "execute_result"
    }
   ],
   "source": [
    "#Tabla revisión de valores ausentes.\n",
    "clients_data.isna().sum()"
   ]
  },
  {
   "cell_type": "code",
   "execution_count": 25,
   "metadata": {},
   "outputs": [
    {
     "data": {
      "text/html": [
       "<div>\n",
       "<style scoped>\n",
       "    .dataframe tbody tr th:only-of-type {\n",
       "        vertical-align: middle;\n",
       "    }\n",
       "\n",
       "    .dataframe tbody tr th {\n",
       "        vertical-align: top;\n",
       "    }\n",
       "\n",
       "    .dataframe thead th {\n",
       "        text-align: right;\n",
       "    }\n",
       "</style>\n",
       "<table border=\"1\" class=\"dataframe\">\n",
       "  <thead>\n",
       "    <tr style=\"text-align: right;\">\n",
       "      <th></th>\n",
       "      <th>user_id</th>\n",
       "      <th>tariff_plan</th>\n",
       "      <th>date_start</th>\n",
       "    </tr>\n",
       "  </thead>\n",
       "  <tbody>\n",
       "    <tr>\n",
       "      <th>635</th>\n",
       "      <td>166711</td>\n",
       "      <td>B</td>\n",
       "      <td>2019-08-15</td>\n",
       "    </tr>\n",
       "    <tr>\n",
       "      <th>41</th>\n",
       "      <td>166806</td>\n",
       "      <td>A</td>\n",
       "      <td>2019-08-20</td>\n",
       "    </tr>\n",
       "    <tr>\n",
       "      <th>94</th>\n",
       "      <td>166939</td>\n",
       "      <td>C</td>\n",
       "      <td>2019-08-26</td>\n",
       "    </tr>\n",
       "    <tr>\n",
       "      <th>677</th>\n",
       "      <td>167410</td>\n",
       "      <td>B</td>\n",
       "      <td>2019-09-16</td>\n",
       "    </tr>\n",
       "    <tr>\n",
       "      <th>267</th>\n",
       "      <td>167650</td>\n",
       "      <td>C</td>\n",
       "      <td>2019-09-24</td>\n",
       "    </tr>\n",
       "  </tbody>\n",
       "</table>\n",
       "</div>"
      ],
      "text/plain": [
       "     user_id tariff_plan  date_start\n",
       "635   166711           B  2019-08-15\n",
       "41    166806           A  2019-08-20\n",
       "94    166939           C  2019-08-26\n",
       "677   167410           B  2019-09-16\n",
       "267   167650           C  2019-09-24"
      ]
     },
     "execution_count": 25,
     "metadata": {},
     "output_type": "execute_result"
    }
   ],
   "source": [
    "clients_data.sample(5)"
   ]
  },
  {
   "cell_type": "markdown",
   "metadata": {},
   "source": [
    "## Observaciones"
   ]
  },
  {
   "cell_type": "markdown",
   "metadata": {},
   "source": [
    "- En el dataset telecom_dataset_us se encontraron 4900 datos duplicados que representan el 9% de los datos, se procedera a eliminarlos\n",
    "\n",
    "- Sobre valores ausente en el mismo dataset hay dos columnas con datos ausentes internal con 117 que representa el 0.22% y por otro lado operator_id con 8172 datos ausentes que es el 15% \n",
    "\n",
    "El dataset `telecom_dataset_us.csv` contiene las siguientes columnas:\n",
    "\n",
    "- `user_id`: ID de la cuenta de cliente\n",
    "- `date`: fecha en la que se recuperaron las estadísticas\n",
    "- `direction`: \"dirección\" de llamada (`out` para saliente, `in` para entrante)\n",
    "- `internal`: si la llamada fue interna (entre los operadores de un cliente o clienta)\n",
    "- `operator_id`: identificador del operador\n",
    "- `is_missed_call`: si fue una llamada perdida\n",
    "- `calls_count`: número de llamadas\n",
    "- `call_duration`: duración de la llamada (sin incluir el tiempo de espera)\n",
    "- `total_call_duration`: duración de la llamada (incluido el tiempo de espera)\n",
    "\n",
    " \n",
    "\n",
    "El conjunto de datos `telecom_clients_us.csv` tiene las siguientes columnas:\n",
    "\n",
    "- `user_id`: ID de usuario/a\n",
    "- `tariff_plan`: tarifa actual de la clientela\n",
    "- `date_start`: fecha de registro de la clientela"
   ]
  },
  {
   "cell_type": "markdown",
   "metadata": {},
   "source": [
    "## Corregir datos"
   ]
  },
  {
   "cell_type": "code",
   "execution_count": 26,
   "metadata": {},
   "outputs": [
    {
     "name": "stdout",
     "output_type": "stream",
     "text": [
      "Porcentaje de valores ausentes en operator_id: 15.16%\n"
     ]
    }
   ],
   "source": [
    "missing_percent = telecom_data['operator_id'].isna().mean() * 100\n",
    "print(f\"Porcentaje de valores ausentes en operator_id: {missing_percent:.2f}%\")"
   ]
  },
  {
   "cell_type": "code",
   "execution_count": 43,
   "metadata": {},
   "outputs": [
    {
     "name": "stdout",
     "output_type": "stream",
     "text": [
      "Valores ausentes llenados con NaN.\n"
     ]
    },
    {
     "data": {
      "text/plain": [
       "user_id                0\n",
       "date                   0\n",
       "direction              0\n",
       "internal               0\n",
       "operator_id            0\n",
       "is_missed_call         0\n",
       "calls_count            0\n",
       "call_duration          0\n",
       "total_call_duration    0\n",
       "dtype: int64"
      ]
     },
     "execution_count": 43,
     "metadata": {},
     "output_type": "execute_result"
    }
   ],
   "source": [
    "# Llenar valores ausentes con NaN en 'operator_id' y 'internal'\n",
    "telecom_data['operator_id'] = telecom_data['operator_id'].fillna(telecom_data['operator_id'].mode()[0])\n",
    "telecom_data['internal'] = telecom_data['internal'].fillna(np.nan)\n",
    "\n",
    "print(\"Valores ausentes llenados con NaN.\")\n",
    "telecom_data.isna().sum()"
   ]
  },
  {
   "cell_type": "markdown",
   "metadata": {},
   "source": [
    "## Análisis Exploratorio de Datos (EDA)"
   ]
  },
  {
   "cell_type": "markdown",
   "metadata": {},
   "source": [
    "1. Distribución de las variables clave\n"
   ]
  },
  {
   "cell_type": "code",
   "execution_count": 34,
   "metadata": {},
   "outputs": [
    {
     "data": {
      "image/png": "[encoded data removed]",
      "text/plain": [
       "<Figure size 1000x600 with 1 Axes>"
      ]
     },
     "metadata": {},
     "output_type": "display_data"
    },
    {
     "data": {
      "image/png": "[encoded data removed]",
      "text/plain": [
       "<Figure size 1000x600 with 1 Axes>"
      ]
     },
     "metadata": {},
     "output_type": "display_data"
    }
   ],
   "source": [
    "# Histograma de la duración de llamadas\n",
    "telecom_data['call_duration'].hist(bins=50, figsize=(10, 6))\n",
    "plt.title('Distribución de la duración de llamadas')\n",
    "plt.xlabel('Duración (segundos)')\n",
    "plt.ylabel('Frecuencia')\n",
    "plt.grid(True)\n",
    "plt.show()\n",
    "\n",
    "# Boxplot para identificar outliers en la duración de llamadas\n",
    "plt.figure(figsize=(10, 6))\n",
    "sns.boxplot(x=telecom_data['call_duration'])\n",
    "plt.title('Boxplot de la duración de llamadas')\n",
    "plt.xlabel('Duración (segundos)')\n",
    "plt.show()"
   ]
  },
  {
   "cell_type": "markdown",
   "metadata": {},
   "source": [
    "2. Comparación de llamadas entrantes vs salientes"
   ]
  },
  {
   "cell_type": "code",
   "execution_count": 36,
   "metadata": {},
   "outputs": [
    {
     "data": {
      "image/png": "[encoded data removed]",
      "text/plain": [
       "<Figure size 800x500 with 1 Axes>"
      ]
     },
     "metadata": {},
     "output_type": "display_data"
    }
   ],
   "source": [
    "# Conteo de llamadas por dirección\n",
    "telecom_data['direction'].value_counts().plot(kind='bar', figsize=(8, 5))\n",
    "plt.title('Tipo de llamadas: Entrantes vs Salientes')\n",
    "plt.xlabel('Tipo')\n",
    "plt.ylabel('Cantidad')\n",
    "plt.xticks(rotation=0)\n",
    "plt.grid(axis='y')\n",
    "plt.show()"
   ]
  },
  {
   "cell_type": "markdown",
   "metadata": {},
   "source": [
    "3. Análisis de llamadas perdidas"
   ]
  },
  {
   "cell_type": "code",
   "execution_count": 38,
   "metadata": {},
   "outputs": [
    {
     "name": "stdout",
     "output_type": "stream",
     "text": [
      "Porcentaje total de llamadas perdidas: 43.72%\n",
      "Porcentaje de llamadas perdidas por tipo:\n",
      "direction\n",
      "in     39.313168\n",
      "out    46.761914\n",
      "Name: is_missed_call, dtype: float64\n"
     ]
    }
   ],
   "source": [
    "# Porcentaje de llamadas perdidas\n",
    "missed_ratio = telecom_data['is_missed_call'].mean() * 100\n",
    "print(f\"Porcentaje total de llamadas perdidas: {missed_ratio:.2f}%\")\n",
    "\n",
    "# Comparación de llamadas perdidas por tipo\n",
    "missed_calls_by_direction = telecom_data.groupby('direction')['is_missed_call'].mean() * 100\n",
    "print(\"Porcentaje de llamadas perdidas por tipo:\")\n",
    "print(missed_calls_by_direction)"
   ]
  },
  {
   "cell_type": "markdown",
   "metadata": {},
   "source": [
    "4. Análisis de operadores"
   ]
  },
  {
   "cell_type": "code",
   "execution_count": 41,
   "metadata": {},
   "outputs": [
    {
     "name": "stdout",
     "output_type": "stream",
     "text": [
      "Duración promedio de llamadas por operador:\n",
      "operator_id\n",
      "885876.0    14620.545455\n",
      "885890.0    13238.747292\n",
      "925922.0    11759.924051\n",
      "945310.0     7187.020408\n",
      "945294.0     6602.707317\n",
      "919302.0     6491.027778\n",
      "952734.0     6233.350000\n",
      "908640.0     6164.538462\n",
      "945304.0     6121.136364\n",
      "965544.0     6053.923077\n",
      "Name: call_duration, dtype: float64\n"
     ]
    },
    {
     "data": {
      "image/png": "[encoded data removed]",
      "text/plain": [
       "<Figure size 1000x600 with 1 Axes>"
      ]
     },
     "metadata": {},
     "output_type": "display_data"
    }
   ],
   "source": [
    "# Relación entre operador y duración promedio de llamadas\n",
    "operator_call_duration = telecom_data.groupby('operator_id')['call_duration'].mean().sort_values(ascending=False)\n",
    "print(\"Duración promedio de llamadas por operador:\")\n",
    "print(operator_call_duration.head(10))\n",
    "\n",
    "top_10_operators = operator_call_duration.head(10)\n",
    "\n",
    "# Crear el gráfico de barras\n",
    "plt.figure(figsize=(10, 6))\n",
    "top_10_operators.plot(kind='bar', color='skyblue')\n",
    "plt.title('Top 10 Operadores por Duración Promedio de Llamadas')\n",
    "plt.xlabel('ID del Operador')\n",
    "plt.ylabel('Duración Promedio de Llamadas (segundos)')\n",
    "plt.xticks(rotation=45)\n",
    "plt.grid(axis='y', linestyle='--', alpha=0.7)\n",
    "plt.show()"
   ]
  },
  {
   "cell_type": "markdown",
   "metadata": {},
   "source": [
    "5. Verificación de valores únicos en columnas categóricas"
   ]
  },
  {
   "cell_type": "code",
   "execution_count": 42,
   "metadata": {},
   "outputs": [
    {
     "name": "stdout",
     "output_type": "stream",
     "text": [
      "Valores únicos en 'direction': ['in' 'out']\n",
      "Valores únicos en 'internal': [False True 'NaN']\n"
     ]
    }
   ],
   "source": [
    "# Valores únicos en columnas categóricas\n",
    "print(\"Valores únicos en 'direction':\", telecom_data['direction'].unique())\n",
    "print(\"Valores únicos en 'internal':\", telecom_data['internal'].unique())"
   ]
  },
  {
   "cell_type": "markdown",
   "metadata": {},
   "source": [
    "6. Filtrar valores atípicos"
   ]
  },
  {
   "cell_type": "code",
   "execution_count": 44,
   "metadata": {},
   "outputs": [
    {
     "data": {
      "image/png": "[encoded data removed]",
      "text/plain": [
       "<Figure size 1000x600 with 1 Axes>"
      ]
     },
     "metadata": {},
     "output_type": "display_data"
    }
   ],
   "source": [
    "# Filtrar llamadas con duración mayor a 10,000 segundos\n",
    "telecom_data = telecom_data[telecom_data['call_duration'] <= 10000]\n",
    "\n",
    "# Verificar la nueva distribución de la duración de llamadas\n",
    "telecom_data['call_duration'].hist(bins=50, figsize=(10, 6))\n",
    "plt.title('Distribución de la duración de llamadas (filtradas)')\n",
    "plt.xlabel('Duración (segundos)')\n",
    "plt.ylabel('Frecuencia')\n",
    "plt.grid(True)\n",
    "plt.show()"
   ]
  },
  {
   "cell_type": "markdown",
   "metadata": {},
   "source": [
    "## Identificación de Operadores Ineficaces\n"
   ]
  },
  {
   "cell_type": "code",
   "execution_count": 48,
   "metadata": {},
   "outputs": [
    {
     "name": "stdout",
     "output_type": "stream",
     "text": [
      "Métricas clave por operador:\n",
      "             is_missed_call  call_duration  calls_count  direction\n",
      "operator_id                                                       \n",
      "879896.0           0.396825     492.293651          871        103\n",
      "879898.0           0.398406    1111.067729         7974        187\n",
      "880020.0           0.318182     104.090909           54         14\n",
      "880022.0           0.434211     240.842105          219         68\n",
      "880026.0           0.474747     856.939394         2439        179\n"
     ]
    }
   ],
   "source": [
    "# Calcular métricas clave por operador\n",
    "operator_stats = telecom_data.groupby('operator_id').agg({\n",
    "    'is_missed_call': 'mean',  # Tasa de llamadas perdidas\n",
    "    'call_duration': 'mean',  # Duración promedio de llamadas\n",
    "    'calls_count': 'sum',     # Número total de llamadas\n",
    "    'direction': lambda x: (x == 'out').sum()  # Número de llamadas salientes\n",
    "})\n",
    "\n",
    "print(\"Métricas clave por operador:\")\n",
    "print(operator_stats.head())"
   ]
  },
  {
   "cell_type": "code",
   "execution_count": 50,
   "metadata": {},
   "outputs": [
    {
     "name": "stdout",
     "output_type": "stream",
     "text": [
      "Operadores ineficaces:\n",
      "             is_missed_call  call_duration  calls_count  direction\n",
      "operator_id                                                       \n",
      "913886.0                0.5           19.0            2          0\n"
     ]
    }
   ],
   "source": [
    "# Calcular cuartiles\n",
    "q3_missed = operator_stats['is_missed_call'].quantile(0.75)\n",
    "q1_outgoing = operator_stats['direction'].quantile(0.25)\n",
    "\n",
    "# Identificar operadores ineficaces\n",
    "inefficient_operators = operator_stats[\n",
    "    (operator_stats['is_missed_call'] > q3_missed) &  # Más del 75% en tasa de pérdida\n",
    "    (operator_stats['direction'] < q1_outgoing)    # Menos del 25% en llamadas salientes\n",
    "]\n",
    "\n",
    "print(\"Operadores ineficaces:\")\n",
    "print(inefficient_operators)"
   ]
  },
  {
   "cell_type": "code",
   "execution_count": 57,
   "metadata": {},
   "outputs": [
    {
     "name": "stdout",
     "output_type": "stream",
     "text": [
      "Operadores ineficaces según el índice:\n",
      "             is_missed_call  call_duration  calls_count  direction  \\\n",
      "operator_id                                                          \n",
      "919162.0           0.600000    3114.066667         2552         30   \n",
      "919188.0           0.636364    2438.363636          611         11   \n",
      "919192.0           0.575758    3463.757576         2136         33   \n",
      "919194.0           0.594595    2568.432432         1327         37   \n",
      "919202.0           0.571429    2709.257143         2164         35   \n",
      "919302.0           0.904762     713.476190         1277         21   \n",
      "919306.0           0.640000    2354.800000         1272         25   \n",
      "919362.0           0.607143    3072.642857         2203         28   \n",
      "919370.0           0.500000    3296.333333         1324         24   \n",
      "919376.0           0.480000    3344.840000         1415         25   \n",
      "919482.0           0.541667    3346.041667         1444         24   \n",
      "919504.0           0.518519    3260.925926         2214         27   \n",
      "920414.0           0.500000    3569.400000         1266         20   \n",
      "921574.0           0.538462    3506.692308         1778         26   \n",
      "923666.0           0.606061    2606.606061         1605         33   \n",
      "938070.0           0.666667    2132.833333          436          6   \n",
      "938078.0           0.583333    3089.500000          754         12   \n",
      "945278.0           0.675676    2533.378378         3151         37   \n",
      "945288.0           0.689655    2458.448276         1308         29   \n",
      "945318.0           0.782609    1397.347826         1006         23   \n",
      "945320.0           0.709677    2030.645161         1396         31   \n",
      "953462.0           0.696970    1936.424242          736         33   \n",
      "965540.0           0.526316    3057.421053          756         19   \n",
      "\n",
      "             missed_call_rate_norm  call_duration_norm  inefficiency_score  \n",
      "operator_id                                                                 \n",
      "919162.0                  0.600000            0.743214            0.657286  \n",
      "919188.0                  0.636364            0.581948            0.614598  \n",
      "919192.0                  0.575758            0.826672            0.676124  \n",
      "919194.0                  0.594595            0.612991            0.601953  \n",
      "919202.0                  0.571429            0.646601            0.601497  \n",
      "919302.0                  0.904762            0.170281            0.610969  \n",
      "919306.0                  0.640000            0.562005            0.608802  \n",
      "919362.0                  0.607143            0.733328            0.657617  \n",
      "919370.0                  0.500000            0.786714            0.614686  \n",
      "919376.0                  0.480000            0.798291            0.607316  \n",
      "919482.0                  0.541667            0.798578            0.644431  \n",
      "919504.0                  0.518519            0.778264            0.622417  \n",
      "920414.0                  0.500000            0.851885            0.640754  \n",
      "921574.0                  0.538462            0.836919            0.657845  \n",
      "923666.0                  0.606061            0.622102            0.612477  \n",
      "938070.0                  0.666667            0.509029            0.603612  \n",
      "938078.0                  0.583333            0.737351            0.644940  \n",
      "945278.0                  0.675676            0.604625            0.647255  \n",
      "945288.0                  0.689655            0.586742            0.648490  \n",
      "945318.0                  0.782609            0.333496            0.602964  \n",
      "945320.0                  0.709677            0.484641            0.619663  \n",
      "953462.0                  0.696970            0.462154            0.603043  \n",
      "965540.0                  0.526316            0.729695            0.607667  \n"
     ]
    }
   ],
   "source": [
    "scaler = MinMaxScaler()\n",
    "\n",
    "# Normalizar las métricas\n",
    "operator_stats[['missed_call_rate_norm', 'call_duration_norm']] = scaler.fit_transform(\n",
    "    operator_stats[['is_missed_call', 'call_duration']]\n",
    ")\n",
    "\n",
    "# Crear un índice de ineficiencia\n",
    "operator_stats['inefficiency_score'] = (\n",
    "    0.6 * operator_stats['missed_call_rate_norm'] + 0.4 * operator_stats['call_duration_norm']\n",
    ")\n",
    "\n",
    "# Definir operadores ineficaces según el índice\n",
    "inefficient_operators = operator_stats[operator_stats['inefficiency_score'] > 0.6]\n",
    "\n",
    "print(\"Operadores ineficaces según el índice:\")\n",
    "print(inefficient_operators)"
   ]
  },
  {
   "cell_type": "code",
   "execution_count": 58,
   "metadata": {},
   "outputs": [
    {
     "data": {
      "image/png": "[encoded data removed]",
      "text/plain": [
       "<Figure size 1000x600 with 1 Axes>"
      ]
     },
     "metadata": {},
     "output_type": "display_data"
    }
   ],
   "source": [
    "# Gráfico de barras para el índice de ineficiencia\n",
    "plt.figure(figsize=(10, 6))\n",
    "inefficient_operators['inefficiency_score'].plot(kind='bar', color='red', alpha=0.7)\n",
    "plt.title('Índice de ineficiencia por operador')\n",
    "plt.xlabel('ID del Operador')\n",
    "plt.ylabel('Índice de ineficiencia')\n",
    "plt.xticks(rotation=45)\n",
    "plt.grid(axis='y', linestyle='--', alpha=0.7)\n",
    "plt.show()"
   ]
  },
  {
   "cell_type": "code",
   "execution_count": 59,
   "metadata": {},
   "outputs": [
    {
     "name": "stdout",
     "output_type": "stream",
     "text": [
      "Prueba t para duración promedio de llamadas:\n",
      "Estadístico t: 14.06, p-valor: 0.0000\n"
     ]
    }
   ],
   "source": [
    "# Dividir operadores en dos grupos: ineficaces y eficaces\n",
    "inefficient_group = telecom_data[telecom_data['operator_id'].isin(inefficient_operators.index)]\n",
    "efficient_group = telecom_data[~telecom_data['operator_id'].isin(inefficient_operators.index)]\n",
    "\n",
    "# Prueba t para comparar la duración promedio de llamadas\n",
    "t_stat, p_value = ttest_ind(\n",
    "    inefficient_group['call_duration'],\n",
    "    efficient_group['call_duration'],\n",
    "    equal_var=False  # Asumimos varianzas diferentes\n",
    ")\n",
    "\n",
    "print(f\"Prueba t para duración promedio de llamadas:\")\n",
    "print(f\"Estadístico t: {t_stat:.2f}, p-valor: {p_value:.4f}\")"
   ]
  },
  {
   "cell_type": "markdown",
   "metadata": {},
   "source": [
    "## Obervasiones\n",
    "\n",
    "- Segmentación de operadores\n",
    "  - Operadores ineficaces según cuartiles: Solo un operador (913886.0) fue identificado como ineficaz basándose en los cuartiles. Esto sugiere que los criterios de cuartiles son muy restrictivos.\n",
    "  - Operadores ineficaces según el índice: Se identificaron 23 operadores con un índice de ineficiencia superior a 0.6. Esto indica que el índice es más inclusivo y captura operadores con múltiples indicadores de ineficiencia.\n",
    "- Prueba t\n",
    "  - Estadístico t: 14.06, lo que indica una diferencia significativa en la duración promedio de llamadas entre operadores ineficaces y eficaces.\n",
    "p-valor: 0.0000, lo que confirma que la diferencia es estadísticamente significativa.\n",
    "  - Interpretación: Los operadores ineficaces tienen una duración promedio de llamadas significativamente diferente a la de los operadores eficaces. Esto respalda la validez de los criterios utilizados para identificar ineficiencia."
   ]
  },
  {
   "cell_type": "code",
   "execution_count": 60,
   "metadata": {},
   "outputs": [
    {
     "name": "stdout",
     "output_type": "stream",
     "text": [
      "Tamaño del grupo de operadores ineficaces: 589\n",
      "Tamaño del grupo de operadores eficaces: 52735\n",
      "Valores nulos en 'call_duration' (ineficaces): 0\n",
      "Valores nulos en 'call_duration' (eficaces): 0\n"
     ]
    }
   ],
   "source": [
    "# Verificar el tamaño de los grupos\n",
    "print(f\"Tamaño del grupo de operadores ineficaces: {inefficient_group.shape[0]}\")\n",
    "print(f\"Tamaño del grupo de operadores eficaces: {efficient_group.shape[0]}\")\n",
    "\n",
    "# Verificar si hay valores nulos en las variables clave\n",
    "print(\"Valores nulos en 'call_duration' (ineficaces):\", inefficient_group['call_duration'].isna().sum())\n",
    "print(\"Valores nulos en 'call_duration' (eficaces):\", efficient_group['call_duration'].isna().sum())"
   ]
  },
  {
   "cell_type": "code",
   "execution_count": 61,
   "metadata": {},
   "outputs": [
    {
     "name": "stdout",
     "output_type": "stream",
     "text": [
      "Prueba de Shapiro-Wilk para operadores ineficaces: p-valor = 0.0000\n",
      "Prueba de Shapiro-Wilk para operadores eficaces: p-valor = 0.0000\n"
     ]
    },
    {
     "name": "stderr",
     "output_type": "stream",
     "text": [
      "/Library/Frameworks/Python.framework/Versions/3.11/lib/python3.11/site-packages/scipy/stats/_axis_nan_policy.py:579: UserWarning: scipy.stats.shapiro: For N > 5000, computed p-value may not be accurate. Current N is 52735.\n",
      "  res = hypotest_fun_out(*samples, **kwds)\n"
     ]
    }
   ],
   "source": [
    "# Prueba de normalidad para la duración de llamadas\n",
    "stat_inefficient, p_inefficient = st.shapiro(inefficient_group['call_duration'])\n",
    "stat_efficient, p_efficient = st.shapiro(efficient_group['call_duration'])\n",
    "\n",
    "print(f\"Prueba de Shapiro-Wilk para operadores ineficaces: p-valor = {p_inefficient:.4f}\")\n",
    "print(f\"Prueba de Shapiro-Wilk para operadores eficaces: p-valor = {p_efficient:.4f}\")"
   ]
  },
  {
   "cell_type": "code",
   "execution_count": 62,
   "metadata": {},
   "outputs": [
    {
     "name": "stdout",
     "output_type": "stream",
     "text": [
      "Prueba Mann-Whitney U:\n",
      "Estadístico U: 15943822.50, p-valor: 0.2453\n"
     ]
    }
   ],
   "source": [
    "# Prueba Mann-Whitney U\n",
    "u_stat, p_value = st.mannwhitneyu(\n",
    "    inefficient_group['call_duration'],\n",
    "    efficient_group['call_duration'],\n",
    "    alternative='two-sided'  # Comparación bilateral\n",
    ")\n",
    "\n",
    "print(f\"Prueba Mann-Whitney U:\")\n",
    "print(f\"Estadístico U: {u_stat:.2f}, p-valor: {p_value:.4f}\")"
   ]
  },
  {
   "cell_type": "code",
   "execution_count": 63,
   "metadata": {},
   "outputs": [
    {
     "name": "stdout",
     "output_type": "stream",
     "text": [
      "Prueba t para duración promedio de llamadas:\n",
      "Estadístico t: 14.06, p-valor: 0.0000\n"
     ]
    }
   ],
   "source": [
    "# Prueba t para comparar la duración promedio de llamadas\n",
    "t_stat, p_value = st.ttest_ind(\n",
    "    inefficient_group['call_duration'],\n",
    "    efficient_group['call_duration'],\n",
    "    equal_var=False  # Asumimos varianzas diferentes\n",
    ")\n",
    "\n",
    "print(f\"Prueba t para duración promedio de llamadas:\")\n",
    "print(f\"Estadístico t: {t_stat:.2f}, p-valor: {p_value:.4f}\")"
   ]
  },
  {
   "cell_type": "markdown",
   "metadata": {},
   "source": [
    "## Conclusión general\n",
    "\n",
    "- Características de las llamadas\n",
    "\n",
    "La mayoría de los registros presentan llamadas de corta duración (mediana de 38 segundos) y pocas llamadas por usuario (mediana de 4 llamadas).\n",
    "\n",
    "Existe un rango muy amplio: desde llamadas de 0 segundos hasta más de 144,000 segundos (~40 horas), lo que sugiere valores atípicos que deberían analizarse.\n",
    "\n",
    "- Distribución de tipos de llamadas\n",
    "\n",
    "Hay un alto número de llamadas perdidas (is_missed_call=True).\n",
    "\n",
    "Se identifican direcciones de llamada (direction) y operadores (operator_id) con distribuciones desbalanceadas.\n",
    "\n",
    "- Análisis temporal\n",
    "\n",
    "La actividad de llamadas presenta variaciones notorias según la fecha y el horario.\n",
    "\n",
    "Se detectan picos de llamadas en ciertos periodos, lo que podría relacionarse con eventos específicos o estacionalidad.\n",
    "\n",
    "- Hallazgos del análisis estadístico y visual\n",
    "\n",
    "Los histogramas muestran concentraciones muy altas en valores bajos de duración y cantidad de llamadas.\n",
    "\n",
    "Algunos gráficos sugieren correlación entre el número de llamadas y la duración total, aunque con fuerte dispersión.\n",
    "\n",
    "Los outliers afectan las medias, por lo que la mediana es una medida más representativa.\n",
    "\n",
    "- Comportamiento de las llamadas\n",
    "\n",
    "La mayoría de los usuarios realiza pocas llamadas y de corta duración, lo que sugiere que la comunicación telefónica podría no ser su principal canal.\n",
    "\n",
    "Los picos de llamadas perdidas podrían señalar problemas de disponibilidad, cobertura o saturación del servicio.\n",
    "\n",
    "- Patrones temporales\n",
    "\n",
    "La variación significativa en la actividad a lo largo del tiempo y por franjas horarias puede ser aprovechada para optimizar recursos (personal, líneas activas, capacidad de red) en los momentos de mayor demanda.\n",
    "\n",
    "- Oportunidades estratégicas\n",
    "\n",
    "Reducir las llamadas perdidas mediante mejoras en infraestructura o sistemas automáticos de respuesta podría mejorar la satisfacción del cliente.\n",
    "\n",
    "El análisis de operadores más utilizados permitiría renegociar acuerdos o priorizar alianzas estratégicas.\n",
    "\n",
    "Una segmentación de usuarios según su volumen y duración de llamadas ayudaría a diseñar planes y tarifas más ajustadas a cada perfil.\n"
   ]
  }
 ],
 "metadata": {
  "kernelspec": {
   "display_name": "Python 3 (ipykernel)",
   "language": "python",
   "name": "python3"
  },
  "language_info": {
   "codemirror_mode": {
    "name": "ipython",
    "version": 3
   },
   "file_extension": ".py",
   "mimetype": "text/x-python",
   "name": "python",
   "nbconvert_exporter": "python",
   "pygments_lexer": "ipython3",
   "version": "3.9.23"
  }
 },
 "nbformat": 4,
 "nbformat_minor": 4
}
